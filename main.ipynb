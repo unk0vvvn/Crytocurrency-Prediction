{
 "cells": [
  {
   "cell_type": "code",
   "execution_count": null,
   "metadata": {},
   "outputs": [],
   "source": [
    "# https://docs.upbit.com/reference/"
   ]
  },
  {
   "cell_type": "code",
   "execution_count": 40,
   "metadata": {},
   "outputs": [],
   "source": [
    "import requests\n",
    "import json\n",
    "import pprint\n",
    "\n",
    "# 마켓 리스트 https://api.upbit.com/v1/market/all \n",
    "MARKET_LIST_PATH = \"market/all\"\n",
    "\n",
    "\n",
    "def send_request(path, method):\n",
    "    API_HOST = \"https://api.upbit.com/v1/\"\n",
    "    url = API_HOST + path\n",
    "    headers = {'Content-Type': 'application/json', 'charset': 'UTF-8', 'Accept': '*/*'}\n",
    "    body = {\n",
    "        # \"key1\": \"value1\",\n",
    "        # \"key2\": \"value2\"\n",
    "    }\n",
    "    \n",
    "    try:\n",
    "        if method.upper() == 'GET':\n",
    "            response = requests.get(url, headers=headers)\n",
    "        # elif method == 'POST':\n",
    "        #     response = requests.post(url, headers=headers, data=json.dumps(body, ensure_ascii=False, indent=\"\\t\"))\n",
    "\n",
    "        ret = json.loads(response.text)[0]\n",
    "        # pprint.pprint(ret)\n",
    "\n",
    "        return ret\n",
    "    except Exception as ex:\n",
    "        print(ex)\n",
    "  \n",
    "\n",
    "# 호출 예시\n",
    "a = send_request(MARKET_LIST_PATH, \"GET\")\n"
   ]
  },
  {
   "cell_type": "code",
   "execution_count": 34,
   "metadata": {},
   "outputs": [
    {
     "name": "stdout",
     "output_type": "stream",
     "text": [
      "[{'acc_trade_price': 58179215084.50273,\n",
      "  'acc_trade_price_24h': 317161536025.2615,\n",
      "  'acc_trade_volume': 1008.78129714,\n",
      "  'acc_trade_volume_24h': 5558.46751506,\n",
      "  'change': 'FALL',\n",
      "  'change_price': 54000.0,\n",
      "  'change_rate': 0.0009390814,\n",
      "  'high_price': 57950000.0,\n",
      "  'highest_52_week_date': '2024-01-11',\n",
      "  'highest_52_week_price': 66779000.0,\n",
      "  'low_price': 57345000.0,\n",
      "  'lowest_52_week_date': '2023-03-10',\n",
      "  'lowest_52_week_price': 26707000.0,\n",
      "  'market': 'KRW-BTC',\n",
      "  'opening_price': 57526000.0,\n",
      "  'prev_closing_price': 57503000.0,\n",
      "  'signed_change_price': -54000.0,\n",
      "  'signed_change_rate': -0.0009390814,\n",
      "  'timestamp': 1706340834834,\n",
      "  'trade_date': '20240127',\n",
      "  'trade_date_kst': '20240127',\n",
      "  'trade_price': 57449000.0,\n",
      "  'trade_time': '073354',\n",
      "  'trade_time_kst': '163354',\n",
      "  'trade_timestamp': 1706340834810,\n",
      "  'trade_volume': 0.00857}]\n"
     ]
    }
   ],
   "source": [
    "\n",
    "# 비트코인 현재 가격 예시 https://api.upbit.com/v1/ticker?markets=KRW-BTC\n",
    "# 가격 호출\n",
    "TICKER_PATH = \"ticker?markets=\"\n",
    "a = send_request(TICKER_PATH+\"KRW-BTC\", \"GET\")"
   ]
  },
  {
   "cell_type": "code",
   "execution_count": 42,
   "metadata": {},
   "outputs": [
    {
     "data": {
      "text/plain": [
       "57446000.0"
      ]
     },
     "execution_count": 42,
     "metadata": {},
     "output_type": "execute_result"
    }
   ],
   "source": [
    "# 일 봉 조회 https://api.upbit.com/v1/candles/days?count=1&market=KRW-BTC\n",
    "\n",
    "a = send_request(\"candles/days?count=1&market=KRW-BTC\", \"GET\")\n",
    "a['trade_price']"
   ]
  },
  {
   "cell_type": "code",
   "execution_count": 77,
   "metadata": {},
   "outputs": [
    {
     "data": {
      "text/plain": [
       "57500000"
      ]
     },
     "execution_count": 77,
     "metadata": {},
     "output_type": "execute_result"
    }
   ],
   "source": [
    "pd.to_numeric('57,500,000'.replace(',',''))"
   ]
  },
  {
   "cell_type": "code",
   "execution_count": 82,
   "metadata": {},
   "outputs": [
    {
     "data": {
      "text/html": [
       "<div>\n",
       "<style scoped>\n",
       "    .dataframe tbody tr th:only-of-type {\n",
       "        vertical-align: middle;\n",
       "    }\n",
       "\n",
       "    .dataframe tbody tr th {\n",
       "        vertical-align: top;\n",
       "    }\n",
       "\n",
       "    .dataframe thead th {\n",
       "        text-align: right;\n",
       "    }\n",
       "</style>\n",
       "<table border=\"1\" class=\"dataframe\">\n",
       "  <thead>\n",
       "    <tr style=\"text-align: right;\">\n",
       "      <th></th>\n",
       "      <th>종가</th>\n",
       "    </tr>\n",
       "    <tr>\n",
       "      <th>날짜</th>\n",
       "      <th></th>\n",
       "    </tr>\n",
       "  </thead>\n",
       "  <tbody>\n",
       "    <tr>\n",
       "      <th>2021-01-26</th>\n",
       "      <td>35930000</td>\n",
       "    </tr>\n",
       "    <tr>\n",
       "      <th>2021-01-27</th>\n",
       "      <td>34293000</td>\n",
       "    </tr>\n",
       "    <tr>\n",
       "      <th>2021-01-28</th>\n",
       "      <td>36616000</td>\n",
       "    </tr>\n",
       "    <tr>\n",
       "      <th>2021-01-29</th>\n",
       "      <td>37523000</td>\n",
       "    </tr>\n",
       "    <tr>\n",
       "      <th>2021-01-30</th>\n",
       "      <td>37029000</td>\n",
       "    </tr>\n",
       "    <tr>\n",
       "      <th>...</th>\n",
       "      <td>...</td>\n",
       "    </tr>\n",
       "    <tr>\n",
       "      <th>2024-01-22</th>\n",
       "      <td>54690000</td>\n",
       "    </tr>\n",
       "    <tr>\n",
       "      <th>2024-01-23</th>\n",
       "      <td>55389000</td>\n",
       "    </tr>\n",
       "    <tr>\n",
       "      <th>2024-01-24</th>\n",
       "      <td>55194000</td>\n",
       "    </tr>\n",
       "    <tr>\n",
       "      <th>2024-01-25</th>\n",
       "      <td>55101000</td>\n",
       "    </tr>\n",
       "    <tr>\n",
       "      <th>2024-01-26</th>\n",
       "      <td>57500000</td>\n",
       "    </tr>\n",
       "  </tbody>\n",
       "</table>\n",
       "<p>1096 rows × 1 columns</p>\n",
       "</div>"
      ],
      "text/plain": [
       "                  종가\n",
       "날짜                  \n",
       "2021-01-26  35930000\n",
       "2021-01-27  34293000\n",
       "2021-01-28  36616000\n",
       "2021-01-29  37523000\n",
       "2021-01-30  37029000\n",
       "...              ...\n",
       "2024-01-22  54690000\n",
       "2024-01-23  55389000\n",
       "2024-01-24  55194000\n",
       "2024-01-25  55101000\n",
       "2024-01-26  57500000\n",
       "\n",
       "[1096 rows x 1 columns]"
      ]
     },
     "execution_count": 82,
     "metadata": {},
     "output_type": "execute_result"
    }
   ],
   "source": [
    "import pandas as pd\n",
    "\n",
    "df = pd.read_csv(\"BTC_KRW Upbit 과거 데이터.csv\", usecols=[0, 1])\n",
    "df['날짜'] = pd.to_datetime(df['날짜'])\n",
    "df['종가'] = pd.to_numeric(df['종가'].str.replace(\",\",''))\n",
    "df.set_index('날짜', inplace=True)\n",
    "df.sort_index(inplace=True)\n",
    "df"
   ]
  },
  {
   "cell_type": "code",
   "execution_count": 83,
   "metadata": {},
   "outputs": [
    {
     "name": "stdout",
     "output_type": "stream",
     "text": [
      "<class 'pandas.core.frame.DataFrame'>\n",
      "DatetimeIndex: 1096 entries, 2021-01-26 to 2024-01-26\n",
      "Data columns (total 1 columns):\n",
      " #   Column  Non-Null Count  Dtype\n",
      "---  ------  --------------  -----\n",
      " 0   종가      1096 non-null   int64\n",
      "dtypes: int64(1)\n",
      "memory usage: 17.1 KB\n"
     ]
    }
   ],
   "source": [
    "df.info()"
   ]
  },
  {
   "cell_type": "code",
   "execution_count": 84,
   "metadata": {},
   "outputs": [
    {
     "data": {
      "text/plain": [
       "<Axes: xlabel='날짜'>"
      ]
     },
     "execution_count": 84,
     "metadata": {},
     "output_type": "execute_result"
    },
    {
     "name": "stderr",
     "output_type": "stream",
     "text": [
      "c:\\Users\\jaedong\\anaconda3\\envs\\crypto_prediction\\Lib\\site-packages\\IPython\\core\\events.py:82: UserWarning: Glyph 45216 (\\N{HANGUL SYLLABLE NAL}) missing from current font.\n",
      "  func(*args, **kwargs)\n",
      "c:\\Users\\jaedong\\anaconda3\\envs\\crypto_prediction\\Lib\\site-packages\\IPython\\core\\events.py:82: UserWarning: Glyph 51676 (\\N{HANGUL SYLLABLE JJA}) missing from current font.\n",
      "  func(*args, **kwargs)\n",
      "c:\\Users\\jaedong\\anaconda3\\envs\\crypto_prediction\\Lib\\site-packages\\IPython\\core\\events.py:82: UserWarning: Glyph 51333 (\\N{HANGUL SYLLABLE JONG}) missing from current font.\n",
      "  func(*args, **kwargs)\n",
      "c:\\Users\\jaedong\\anaconda3\\envs\\crypto_prediction\\Lib\\site-packages\\IPython\\core\\events.py:82: UserWarning: Glyph 44032 (\\N{HANGUL SYLLABLE GA}) missing from current font.\n",
      "  func(*args, **kwargs)\n",
      "c:\\Users\\jaedong\\anaconda3\\envs\\crypto_prediction\\Lib\\site-packages\\IPython\\core\\pylabtools.py:152: UserWarning: Glyph 45216 (\\N{HANGUL SYLLABLE NAL}) missing from current font.\n",
      "  fig.canvas.print_figure(bytes_io, **kw)\n",
      "c:\\Users\\jaedong\\anaconda3\\envs\\crypto_prediction\\Lib\\site-packages\\IPython\\core\\pylabtools.py:152: UserWarning: Glyph 51676 (\\N{HANGUL SYLLABLE JJA}) missing from current font.\n",
      "  fig.canvas.print_figure(bytes_io, **kw)\n",
      "c:\\Users\\jaedong\\anaconda3\\envs\\crypto_prediction\\Lib\\site-packages\\IPython\\core\\pylabtools.py:152: UserWarning: Glyph 51333 (\\N{HANGUL SYLLABLE JONG}) missing from current font.\n",
      "  fig.canvas.print_figure(bytes_io, **kw)\n",
      "c:\\Users\\jaedong\\anaconda3\\envs\\crypto_prediction\\Lib\\site-packages\\IPython\\core\\pylabtools.py:152: UserWarning: Glyph 44032 (\\N{HANGUL SYLLABLE GA}) missing from current font.\n",
      "  fig.canvas.print_figure(bytes_io, **kw)\n"
     ]
    },
    {
     "data": {
      "image/png": "[encoded data removed]",
      "text/plain": [
       "<Figure size 640x480 with 1 Axes>"
      ]
     },
     "metadata": {},
     "output_type": "display_data"
    }
   ],
   "source": [
    "df.plot()"
   ]
  }
 ],
 "metadata": {
  "kernelspec": {
   "display_name": "crypto_prediction",
   "language": "python",
   "name": "python3"
  },
  "language_info": {
   "codemirror_mode": {
    "name": "ipython",
    "version": 3
   },
   "file_extension": ".py",
   "mimetype": "text/x-python",
   "name": "python",
   "nbconvert_exporter": "python",
   "pygments_lexer": "ipython3",
   "version": "3.12.1"
  }
 },
 "nbformat": 4,
 "nbformat_minor": 2
}
